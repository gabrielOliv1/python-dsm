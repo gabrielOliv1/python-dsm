{
  "nbformat": 4,
  "nbformat_minor": 0,
  "metadata": {
    "colab": {
      "provenance": [],
      "authorship_tag": "ABX9TyMUJjxcPmhxkDXy1Kl6O0kb",
      "include_colab_link": true
    },
    "kernelspec": {
      "name": "python3",
      "display_name": "Python 3"
    },
    "language_info": {
      "name": "python"
    }
  },
  "cells": [
    {
      "cell_type": "markdown",
      "metadata": {
        "id": "view-in-github",
        "colab_type": "text"
      },
      "source": [
        "<a href=\"https://colab.research.google.com/github/gabrielOliv1/python-dsm/blob/master/Aulas/aula01-algoritmos.ipynb\" target=\"_parent\"><img src=\"https://colab.research.google.com/assets/colab-badge.svg\" alt=\"Open In Colab\"/></a>"
      ]
    },
    {
      "cell_type": "code",
      "execution_count": 1,
      "metadata": {
        "colab": {
          "base_uri": "https://localhost:8080/"
        },
        "id": "_wL6yhKDeux1",
        "outputId": "2762ce63-7c0e-48f0-967a-fedb0ae7bcba"
      },
      "outputs": [
        {
          "output_type": "stream",
          "name": "stdout",
          "text": [
            "Por favor, informe seus dados pessoais:\n",
            "Nome: Gabigol\n",
            "Idade: 18\n",
            "Sexo (M/F): M\n",
            "\n",
            "Dados informados:\n",
            "Nome: Gabigol\n",
            "Idade: 18\n",
            "Sexo: M\n"
          ]
        }
      ],
      "source": [
        "nome = input(\"Por favor, informe seus dados pessoais:\\nNome: \")\n",
        "idade = int(input(\"Idade: \"))\n",
        "sexo = input(\"Sexo (M/F): \")\n",
        "\n",
        "print(\"\\nDados informados:\")\n",
        "print(\"Nome:\", nome)\n",
        "print(\"Idade:\", idade)\n",
        "print(\"Sexo:\", sexo)"
      ]
    },
    {
      "cell_type": "code",
      "source": [
        "# Refatoração 1\n",
        "# Função para validar o sexo\n",
        "def validar_sexo(sexo):\n",
        "    if sexo.upper() == \"M\" or sexo.upper() == \"F\":\n",
        "        return True\n",
        "    else:\n",
        "        return False\n",
        "\n",
        "# Loop para solicitar nome válido\n",
        "while True:\n",
        "    nome = input(\"Por favor, informe seus dados pessoais:\\nNome: \")\n",
        "    if nome.strip() != \"\":\n",
        "        break\n",
        "    else:\n",
        "        print(\"Por favor, informe um nome válido.\")\n",
        "\n",
        "# Loop para solicitar idade válida\n",
        "while True:\n",
        "    idade = input(\"Idade: \")\n",
        "    if idade.isnumeric() and int(idade) >= 0:\n",
        "        idade = int(idade)\n",
        "        break\n",
        "    else:\n",
        "        print(\"Por favor, informe uma idade válida.\")\n",
        "\n",
        "# Loop para solicitar sexo válido\n",
        "while True:\n",
        "    sexo = input(\"Sexo (M/F): \")\n",
        "    if validar_sexo(sexo):\n",
        "        break\n",
        "    else:\n",
        "        print(\"Por favor, informe um sexo válido.\")\n",
        "\n",
        "# Impressão dos dados informados\n",
        "print(\"\\nDados informados:\")\n",
        "print(\"Nome:\", nome)\n",
        "print(\"Idade:\", idade)\n",
        "print(\"Sexo:\", sexo)\n"
      ],
      "metadata": {
        "colab": {
          "base_uri": "https://localhost:8080/"
        },
        "id": "_wJCreXpfWCX",
        "outputId": "f5a0da12-a489-431b-d447-5593256790a2"
      },
      "execution_count": 2,
      "outputs": [
        {
          "output_type": "stream",
          "name": "stdout",
          "text": [
            "Por favor, informe seus dados pessoais:\n",
            "Nome:     \n",
            "Por favor, informe um nome válido.\n",
            "Por favor, informe seus dados pessoais:\n",
            "Nome: 4215\n",
            "Idade: 18\n",
            "Sexo (M/F): E\n",
            "Por favor, informe um sexo válido.\n",
            "Sexo (M/F): M\n",
            "\n",
            "Dados informados:\n",
            "Nome: 4215\n",
            "Idade: 18\n",
            "Sexo: M\n"
          ]
        }
      ]
    },
    {
      "cell_type": "code",
      "source": [
        "# Refatoração 2\n",
        "# Função para validar o nome\n",
        "def validar_nome(nome):\n",
        "    if len(nome) > 1 and nome.isalpha():\n",
        "        return True\n",
        "    else:\n",
        "        return False\n",
        "\n",
        "# Loop para solicitar nome válido\n",
        "while True:\n",
        "    nome = input(\"Por favor, informe seus dados pessoais:\\nNome: \")\n",
        "    if validar_nome(nome):\n",
        "        break\n",
        "    else:\n",
        "        print(\"Por favor, informe um nome válido (apenas letras e com pelo menos 2 caracteres).\")\n",
        "\n",
        "# Loop para solicitar idade válida\n",
        "while True:\n",
        "    idade = input(\"Idade: \")\n",
        "    if idade.isnumeric() and int(idade) >= 0:\n",
        "        idade = int(idade)\n",
        "        break\n",
        "    else:\n",
        "        print(\"Por favor, informe uma idade válida.\")\n",
        "\n",
        "# Loop para solicitar sexo válido\n",
        "while True:\n",
        "    sexo = input(\"Sexo (M/F): \")\n",
        "    if validar_sexo(sexo):\n",
        "        break\n",
        "    else:\n",
        "        print(\"Por favor, informe um sexo válido.\")\n",
        "\n",
        "# Impressão dos dados informados\n",
        "print(\"\\nDados informados:\")\n",
        "print(\"Nome:\", nome)\n",
        "print(\"Idade:\", idade)\n",
        "print(\"Sexo:\", sexo)\n"
      ],
      "metadata": {
        "colab": {
          "base_uri": "https://localhost:8080/"
        },
        "id": "AC7AZw-0fuIn",
        "outputId": "c428263f-43be-4fa8-b6a3-f1b0de1f170e"
      },
      "execution_count": 3,
      "outputs": [
        {
          "output_type": "stream",
          "name": "stdout",
          "text": [
            "Por favor, informe seus dados pessoais:\n",
            "Nome: G1\n",
            "Por favor, informe um nome válido (apenas letras e com pelo menos 2 caracteres).\n",
            "Por favor, informe seus dados pessoais:\n",
            "Nome: Gabriel\n",
            "Idade: 18\n",
            "Sexo (M/F): m\n",
            "\n",
            "Dados informados:\n",
            "Nome: Gabriel\n",
            "Idade: 18\n",
            "Sexo: m\n"
          ]
        }
      ]
    },
    {
      "cell_type": "code",
      "source": [
        "# Refatoração 2\n",
        "# Função para validar o nome\n",
        "def validar_nome(nome):\n",
        "    if len(nome) > 1 and nome.isalpha():\n",
        "        return True\n",
        "    else:\n",
        "        return False\n",
        "\n",
        "# Função para verificar se a pessoa está em idade econômica ativa\n",
        "def verificar_idade_economica_ativa(idade, faixa_etaria):\n",
        "    if idade >= faixa_etaria[0] and idade <= faixa_etaria[1]:\n",
        "        return True\n",
        "    else:\n",
        "        return False\n",
        "\n",
        "# Função para verificar se o endereço está no formato correto: rua, número.\n",
        "def validar_endereco(enderecoCompleto):\n",
        "  indice = enderecoCompleto.find(',')\n",
        "  rua = enderecoCompleto[:indice + 1]\n",
        "  numero = enderecoCompleto[indice:]\n",
        "\n",
        "  if type(rua) == str and type(numero) == int:\n",
        "    return True\n",
        "  else:\n",
        "    return False\n",
        "\n",
        "# Loop para solicitar nome válido\n",
        "while True:\n",
        "    nome = input(\"Por favor, informe seus dados pessoais:\\nNome: \")\n",
        "    if validar_nome(nome):\n",
        "        break\n",
        "    else:\n",
        "        print(\"Por favor, informe um nome válido (apenas letras e com pelo menos 2 caracteres).\")\n",
        "\n",
        "# Loop para solicitar idade válida\n",
        "while True:\n",
        "    idade = input(\"Idade: \")\n",
        "    if idade.isnumeric() and int(idade) >= 0:\n",
        "        idade = int(idade)\n",
        "        break\n",
        "    else:\n",
        "        print(\"Por favor, informe uma idade válida.\")\n",
        "\n",
        "# Loop para solicitar sexo válido\n",
        "while True:\n",
        "    sexo = input(\"Sexo (M/F): \")\n",
        "    if validar_sexo(sexo):\n",
        "        break\n",
        "    else:\n",
        "        print(\"Por favor, informe um sexo válido.\")\n",
        "\n",
        "endereco = input(\"Endereço: \")\n",
        "numero = input(\"Número: \")\n",
        "\n",
        "enderecoCompleto = \"{0}, {1}\".format(endereco, numero)\n",
        "print(validar_endereco(enderecoCompleto), \"Retorno da função validar endereço\")\n",
        "\n",
        "# Impressão dos dados informados\n",
        "print(\"\\nDados informados:\")\n",
        "print(\"Nome:\", nome)\n",
        "\n",
        "# Dados de exemplo para o Brasil\n",
        "pais = \"Brasil\"\n",
        "faixa_etaria = (18, 65)\n",
        "\n",
        "print(\"Idade:\", idade)\n",
        "print(\"Sexo:\", sexo)\n",
        "print(\"Endereço:\", enderecoCompleto)\n",
        "\n",
        "# Verificação se a pessoa está em idade econômica ativa\n",
        "if verificar_idade_economica_ativa(idade, faixa_etaria):\n",
        "    print(\"Você está em idade econômica ativa no\", pais)\n",
        "else:\n",
        "    print(\"Você não está em idade econômica ativa no\", pais)\n",
        "\n"
      ],
      "metadata": {
        "colab": {
          "base_uri": "https://localhost:8080/"
        },
        "id": "r0SrjVl7gxz5",
        "outputId": "1273e216-cd4a-4b4c-fc01-42beac07de33"
      },
      "execution_count": 9,
      "outputs": [
        {
          "output_type": "stream",
          "name": "stdout",
          "text": [
            "Por favor, informe seus dados pessoais:\n",
            "Nome: gabs\n",
            "Idade: 18\n",
            "Sexo (M/F): m\n",
            "Endereço: sei la\n",
            "Número: 1\n",
            "False Retorno da função validar endereço\n",
            "\n",
            "Dados informados:\n",
            "Nome: gabs\n",
            "Idade: 18\n",
            "Sexo: m\n",
            "Endereço: sei la, 1\n",
            "Você está em idade econômica ativa no Brasil\n"
          ]
        }
      ]
    },
    {
      "cell_type": "code",
      "source": [],
      "metadata": {
        "id": "BbI21KV4ugUn"
      },
      "execution_count": null,
      "outputs": []
    }
  ]
}