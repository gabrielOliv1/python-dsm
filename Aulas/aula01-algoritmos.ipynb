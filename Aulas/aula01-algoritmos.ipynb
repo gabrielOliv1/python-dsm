{
  "nbformat": 4,
  "nbformat_minor": 0,
  "metadata": {
    "colab": {
      "provenance": [],
      "authorship_tag": "ABX9TyPE7jtZsk9lkY3S8teOYdEw",
      "include_colab_link": true
    },
    "kernelspec": {
      "name": "python3",
      "display_name": "Python 3"
    },
    "language_info": {
      "name": "python"
    }
  },
  "cells": [
    {
      "cell_type": "markdown",
      "metadata": {
        "id": "view-in-github",
        "colab_type": "text"
      },
      "source": [
        "<a href=\"https://colab.research.google.com/github/gabrielOliv1/python-dsm/blob/master/Aulas/aula01-algoritmos.ipynb\" target=\"_parent\"><img src=\"https://colab.research.google.com/assets/colab-badge.svg\" alt=\"Open In Colab\"/></a>"
      ]
    },
    {
      "cell_type": "code",
      "execution_count": null,
      "metadata": {
        "colab": {
          "base_uri": "https://localhost:8080/"
        },
        "id": "_wL6yhKDeux1",
        "outputId": "2762ce63-7c0e-48f0-967a-fedb0ae7bcba"
      },
      "outputs": [
        {
          "output_type": "stream",
          "name": "stdout",
          "text": [
            "Por favor, informe seus dados pessoais:\n",
            "Nome: Gabigol\n",
            "Idade: 18\n",
            "Sexo (M/F): M\n",
            "\n",
            "Dados informados:\n",
            "Nome: Gabigol\n",
            "Idade: 18\n",
            "Sexo: M\n"
          ]
        }
      ],
      "source": [
        "nome = input(\"Por favor, informe seus dados pessoais:\\nNome: \")\n",
        "idade = int(input(\"Idade: \"))\n",
        "sexo = input(\"Sexo (M/F): \")\n",
        "\n",
        "print(\"\\nDados informados:\")\n",
        "print(\"Nome:\", nome)\n",
        "print(\"Idade:\", idade)\n",
        "print(\"Sexo:\", sexo)"
      ]
    },
    {
      "cell_type": "code",
      "source": [
        "# Refatoração 1\n",
        "# Função para validar o sexo\n",
        "def validar_sexo(sexo):\n",
        "    if sexo.upper() == \"M\" or sexo.upper() == \"F\":\n",
        "        return True\n",
        "    else:\n",
        "        return False\n",
        "\n",
        "# Loop para solicitar nome válido\n",
        "while True:\n",
        "    nome = input(\"Por favor, informe seus dados pessoais:\\nNome: \")\n",
        "    if nome.strip() != \"\":\n",
        "        break\n",
        "    else:\n",
        "        print(\"Por favor, informe um nome válido.\")\n",
        "\n",
        "# Loop para solicitar idade válida\n",
        "while True:\n",
        "    idade = input(\"Idade: \")\n",
        "    if idade.isnumeric() and int(idade) >= 0:\n",
        "        idade = int(idade)\n",
        "        break\n",
        "    else:\n",
        "        print(\"Por favor, informe uma idade válida.\")\n",
        "\n",
        "# Loop para solicitar sexo válido\n",
        "while True:\n",
        "    sexo = input(\"Sexo (M/F): \")\n",
        "    if validar_sexo(sexo):\n",
        "        break\n",
        "    else:\n",
        "        print(\"Por favor, informe um sexo válido.\")\n",
        "\n",
        "# Impressão dos dados informados\n",
        "print(\"\\nDados informados:\")\n",
        "print(\"Nome:\", nome)\n",
        "print(\"Idade:\", idade)\n",
        "print(\"Sexo:\", sexo)\n"
      ],
      "metadata": {
        "colab": {
          "base_uri": "https://localhost:8080/"
        },
        "id": "_wJCreXpfWCX",
        "outputId": "f5a0da12-a489-431b-d447-5593256790a2"
      },
      "execution_count": null,
      "outputs": [
        {
          "output_type": "stream",
          "name": "stdout",
          "text": [
            "Por favor, informe seus dados pessoais:\n",
            "Nome:     \n",
            "Por favor, informe um nome válido.\n",
            "Por favor, informe seus dados pessoais:\n",
            "Nome: 4215\n",
            "Idade: 18\n",
            "Sexo (M/F): E\n",
            "Por favor, informe um sexo válido.\n",
            "Sexo (M/F): M\n",
            "\n",
            "Dados informados:\n",
            "Nome: 4215\n",
            "Idade: 18\n",
            "Sexo: M\n"
          ]
        }
      ]
    },
    {
      "cell_type": "code",
      "source": [
        "# Refatoração 2\n",
        "# Função para validar o nome\n",
        "def validar_nome(nome):\n",
        "    if len(nome) > 1 and nome.isalpha():\n",
        "        return True\n",
        "    else:\n",
        "        return False\n",
        "\n",
        "# Loop para solicitar nome válido\n",
        "while True:\n",
        "    nome = input(\"Por favor, informe seus dados pessoais:\\nNome: \")\n",
        "    if validar_nome(nome):\n",
        "        break\n",
        "    else:\n",
        "        print(\"Por favor, informe um nome válido (apenas letras e com pelo menos 2 caracteres).\")\n",
        "\n",
        "# Loop para solicitar idade válida\n",
        "while True:\n",
        "    idade = input(\"Idade: \")\n",
        "    if idade.isnumeric() and int(idade) >= 0:\n",
        "        idade = int(idade)\n",
        "        break\n",
        "    else:\n",
        "        print(\"Por favor, informe uma idade válida.\")\n",
        "\n",
        "# Loop para solicitar sexo válido\n",
        "while True:\n",
        "    sexo = input(\"Sexo (M/F): \")\n",
        "    if validar_sexo(sexo):\n",
        "        break\n",
        "    else:\n",
        "        print(\"Por favor, informe um sexo válido.\")\n",
        "\n",
        "# Impressão dos dados informados\n",
        "print(\"\\nDados informados:\")\n",
        "print(\"Nome:\", nome)\n",
        "print(\"Idade:\", idade)\n",
        "print(\"Sexo:\", sexo)\n"
      ],
      "metadata": {
        "colab": {
          "base_uri": "https://localhost:8080/"
        },
        "id": "AC7AZw-0fuIn",
        "outputId": "c428263f-43be-4fa8-b6a3-f1b0de1f170e"
      },
      "execution_count": null,
      "outputs": [
        {
          "output_type": "stream",
          "name": "stdout",
          "text": [
            "Por favor, informe seus dados pessoais:\n",
            "Nome: G1\n",
            "Por favor, informe um nome válido (apenas letras e com pelo menos 2 caracteres).\n",
            "Por favor, informe seus dados pessoais:\n",
            "Nome: Gabriel\n",
            "Idade: 18\n",
            "Sexo (M/F): m\n",
            "\n",
            "Dados informados:\n",
            "Nome: Gabriel\n",
            "Idade: 18\n",
            "Sexo: m\n"
          ]
        }
      ]
    },
    {
      "cell_type": "code",
      "source": [
        "# Refatoração 2\n",
        "# Função para validar o nome\n",
        "def validar_nome(nome):\n",
        "    if len(nome) > 1 and nome.isalpha():\n",
        "        return True\n",
        "    else:\n",
        "        return False\n",
        "\n",
        "# Função para verificar se a pessoa está em idade econômica ativa\n",
        "def verificar_idade_economica_ativa(idade, faixa_etaria):\n",
        "    if idade >= faixa_etaria[0] and idade <= faixa_etaria[1]:\n",
        "        return True\n",
        "    else:\n",
        "        return False\n",
        "\n",
        "# Loop para solicitar nome válido\n",
        "while True:\n",
        "    nome = input(\"Por favor, informe seus dados pessoais:\\nNome: \")\n",
        "    if validar_nome(nome):\n",
        "        break\n",
        "    else:\n",
        "        print(\"Por favor, informe um nome válido (apenas letras e com pelo menos 2 caracteres).\")\n",
        "\n",
        "# Loop para solicitar idade válida\n",
        "while True:\n",
        "    idade = input(\"Idade: \")\n",
        "    if idade.isnumeric() and int(idade) >= 0:\n",
        "        idade = int(idade)\n",
        "        break\n",
        "    else:\n",
        "        print(\"Por favor, informe uma idade válida.\")\n",
        "\n",
        "# Loop para solicitar sexo válido\n",
        "while True:\n",
        "    sexo = input(\"Sexo (M/F): \")\n",
        "    if validar_sexo(sexo):\n",
        "        break\n",
        "    else:\n",
        "        print(\"Por favor, informe um sexo válido.\")\n",
        "\n",
        "endereco = input(\"Endereço: \")\n",
        "numero = input(\"Número: \")\n",
        "\n",
        "enderecoCompleto = \"{0}, {1}\".format(endereco, numero)\n",
        "\n",
        "# Impressão dos dados informados\n",
        "print(\"\\nDados informados:\")\n",
        "print(\"Nome:\", nome)\n",
        "\n",
        "# Dados de exemplo para o Brasil\n",
        "pais = \"Brasil\"\n",
        "faixa_etaria = (18, 65)\n",
        "\n",
        "print(\"Idade:\", idade)\n",
        "print(\"Sexo:\", sexo)\n",
        "print(\"Endereço:\", enderecoCompleto)\n",
        "\n",
        "# Verificação se a pessoa está em idade econômica ativa\n",
        "if verificar_idade_economica_ativa(idade, faixa_etaria):\n",
        "    print(\"Você está em idade econômica ativa no\", pais)\n",
        "else:\n",
        "    print(\"Você não está em idade econômica ativa no\", pais)\n",
        "\n"
      ],
      "metadata": {
        "colab": {
          "base_uri": "https://localhost:8080/",
          "height": 408
        },
        "id": "r0SrjVl7gxz5",
        "outputId": "ff5c6b1a-04d3-4482-c5ff-daf279b47a56"
      },
      "execution_count": 22,
      "outputs": [
        {
          "name": "stdout",
          "output_type": "stream",
          "text": [
            "Por favor, informe seus dados pessoais:\n",
            "Nome: Gabriel\n",
            "Idade: a\n",
            "Por favor, informe uma idade válida.\n",
            "Idade: a\n",
            "Por favor, informe uma idade válida.\n",
            "Idade: a\n",
            "Por favor, informe uma idade válida.\n",
            "Idade: 18\n",
            "Sexo (M/F): fg\n"
          ]
        },
        {
          "output_type": "error",
          "ename": "NameError",
          "evalue": "ignored",
          "traceback": [
            "\u001b[0;31m---------------------------------------------------------------------------\u001b[0m",
            "\u001b[0;31mNameError\u001b[0m                                 Traceback (most recent call last)",
            "\u001b[0;32m<ipython-input-22-bee995403e15>\u001b[0m in \u001b[0;36m<module>\u001b[0;34m\u001b[0m\n\u001b[1;32m     45\u001b[0m \u001b[0;32mwhile\u001b[0m \u001b[0;32mTrue\u001b[0m\u001b[0;34m:\u001b[0m\u001b[0;34m\u001b[0m\u001b[0;34m\u001b[0m\u001b[0m\n\u001b[1;32m     46\u001b[0m     \u001b[0msexo\u001b[0m \u001b[0;34m=\u001b[0m \u001b[0minput\u001b[0m\u001b[0;34m(\u001b[0m\u001b[0;34m\"Sexo (M/F): \"\u001b[0m\u001b[0;34m)\u001b[0m\u001b[0;34m\u001b[0m\u001b[0;34m\u001b[0m\u001b[0m\n\u001b[0;32m---> 47\u001b[0;31m     \u001b[0;32mif\u001b[0m \u001b[0mvalidar_sexo\u001b[0m\u001b[0;34m(\u001b[0m\u001b[0msexo\u001b[0m\u001b[0;34m)\u001b[0m\u001b[0;34m:\u001b[0m\u001b[0;34m\u001b[0m\u001b[0;34m\u001b[0m\u001b[0m\n\u001b[0m\u001b[1;32m     48\u001b[0m         \u001b[0;32mbreak\u001b[0m\u001b[0;34m\u001b[0m\u001b[0;34m\u001b[0m\u001b[0m\n\u001b[1;32m     49\u001b[0m     \u001b[0;32melse\u001b[0m\u001b[0;34m:\u001b[0m\u001b[0;34m\u001b[0m\u001b[0;34m\u001b[0m\u001b[0m\n",
            "\u001b[0;31mNameError\u001b[0m: name 'validar_sexo' is not defined"
          ]
        }
      ]
    },
    {
      "cell_type": "code",
      "source": [
        "array  = [1,2,3,4,5,6,7,8,9,10]\n",
        "contagem = 0\n",
        "\n",
        "# for i in range(len(array)):\n",
        "#   contagem += array[i]\n",
        "\n",
        "# print(contagem)\n",
        "\n",
        "# for i in array:\n",
        "#   contagem += i\n",
        "# print(contagem)"
      ],
      "metadata": {
        "id": "BbI21KV4ugUn",
        "outputId": "4b709980-e370-43c9-f282-fe287301e794",
        "colab": {
          "base_uri": "https://localhost:8080/"
        }
      },
      "execution_count": 21,
      "outputs": [
        {
          "output_type": "stream",
          "name": "stdout",
          "text": [
            "55\n"
          ]
        }
      ]
    },
    {
      "cell_type": "code",
      "source": [
        "nome = 'Gabriel Oliveira'\n",
        "\n",
        "for c in nome:\n",
        "  if c == 'e':\n",
        "    nome = nome.replace(c, 'ua')\n",
        "\n",
        "print(nome)"
      ],
      "metadata": {
        "id": "IJDADmKSytF2",
        "outputId": "ff23207d-cfc9-494e-8757-ae7a5f737e87",
        "colab": {
          "base_uri": "https://localhost:8080/"
        }
      },
      "execution_count": 16,
      "outputs": [
        {
          "output_type": "stream",
          "name": "stdout",
          "text": [
            "Gabriual Olivuaira\n"
          ]
        }
      ]
    },
    {
      "cell_type": "code",
      "source": [
        "#Exemplo dado pelo ChatGPT\n",
        "\n",
        "# Pede para o usuário digitar um número entre 1 e 10\n",
        "num = 0\n",
        "while num < 1 or num > 10:\n",
        "    num = int(input(\"Digite um número entre 1 e 10: \"))\n",
        "    if num < 1 or num > 10:\n",
        "        print(\"Número inválido. Tente novamente.\")\n",
        "\n",
        "# Imprime uma mensagem para cada número de 1 até o número digitado pelo usuário\n",
        "i = 1\n",
        "while i <= num:\n",
        "    print(\"Contando:\", i)\n",
        "    i += 1"
      ],
      "metadata": {
        "id": "rwjbqy_Hzqr9"
      },
      "execution_count": null,
      "outputs": []
    }
  ]
}