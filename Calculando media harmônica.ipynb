{
 "cells": [
  {
   "cell_type": "code",
   "execution_count": 1,
   "id": "7c78e695",
   "metadata": {},
   "outputs": [],
   "source": [
    "numeros = [3.6, 8.9, 10]"
   ]
  },
  {
   "cell_type": "code",
   "execution_count": 20,
   "id": "45df69ae",
   "metadata": {},
   "outputs": [],
   "source": [
    "def somatorio(numeros):\n",
    "    soma = 0\n",
    "    for i in range(len(numeros)):\n",
    "        soma += 1/numeros[i]\n",
    "    return soma"
   ]
  },
  {
   "cell_type": "code",
   "execution_count": 21,
   "id": "32497556",
   "metadata": {},
   "outputs": [],
   "source": [
    "resultado_somatorio = somatorio(numeros)"
   ]
  },
  {
   "cell_type": "code",
   "execution_count": 24,
   "id": "44c84044",
   "metadata": {},
   "outputs": [],
   "source": [
    "def media_harmonica(numeros, resultado_somatorio):\n",
    "    media = len(numeros)/resultado_somatorio\n",
    "    print(media)"
   ]
  },
  {
   "cell_type": "code",
   "execution_count": 25,
   "id": "266985b1",
   "metadata": {},
   "outputs": [
    {
     "name": "stdout",
     "output_type": "stream",
     "text": [
      "6.120733571064696\n"
     ]
    }
   ],
   "source": [
    "media_harmonica(numeros, resultado_somatorio)"
   ]
  },
  {
   "cell_type": "code",
   "execution_count": null,
   "id": "a1ff69d0",
   "metadata": {},
   "outputs": [],
   "source": []
  }
 ],
 "metadata": {
  "kernelspec": {
   "display_name": "Python 3",
   "language": "python",
   "name": "python3"
  },
  "language_info": {
   "codemirror_mode": {
    "name": "ipython",
    "version": 3
   },
   "file_extension": ".py",
   "mimetype": "text/x-python",
   "name": "python",
   "nbconvert_exporter": "python",
   "pygments_lexer": "ipython3",
   "version": "3.8.8"
  }
 },
 "nbformat": 4,
 "nbformat_minor": 5
}
