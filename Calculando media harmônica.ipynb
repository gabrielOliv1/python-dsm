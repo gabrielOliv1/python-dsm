{
 "cells": [
  {
   "cell_type": "code",
   "execution_count": 14,
   "id": "7c78e695",
   "metadata": {},
   "outputs": [],
   "source": [
    "numeros = [3.6, 8.9, 10]"
   ]
  },
  {
   "cell_type": "code",
   "execution_count": 15,
   "id": "45df69ae",
   "metadata": {},
   "outputs": [],
   "source": [
    "def somatorio(numeros):\n",
    "    soma = 0\n",
    "    for i in range(len(numeros)):\n",
    "        soma += 1/numeros[i]\n",
    "        print(soma)\n",
    "    return soma"
   ]
  },
  {
   "cell_type": "code",
   "execution_count": 16,
   "id": "32497556",
   "metadata": {},
   "outputs": [
    {
     "name": "stdout",
     "output_type": "stream",
     "text": [
      "0.2777777777777778\n",
      "0.39013732833957554\n",
      "0.4901373283395756\n"
     ]
    }
   ],
   "source": [
    "resultado_somatorio = somatorio(numeros)"
   ]
  },
  {
   "cell_type": "code",
   "execution_count": 17,
   "id": "44c84044",
   "metadata": {},
   "outputs": [],
   "source": [
    "def media_harmonica(numeros, resultado_somatorio):\n",
    "    media = len(numeros)/resultado_somatorio\n",
    "    print(media)"
   ]
  },
  {
   "cell_type": "code",
   "execution_count": 18,
   "id": "266985b1",
   "metadata": {},
   "outputs": [
    {
     "name": "stdout",
     "output_type": "stream",
     "text": [
      "6.120733571064696\n"
     ]
    }
   ],
   "source": [
    "media_harmonica(numeros, resultado_somatorio)"
   ]
  },
  {
   "cell_type": "code",
   "execution_count": 19,
   "id": "a1ff69d0",
   "metadata": {},
   "outputs": [
    {
     "name": "stdout",
     "output_type": "stream",
     "text": [
      "0.13157894736842105\n",
      "0.20909832721338228\n",
      "0.2805268986419537\n"
     ]
    }
   ],
   "source": [
    "## media harmônica amortizada\n",
    "## x = fator de amortização\n",
    "x = 4\n",
    "\n",
    "def somatorio_com_fator_amortizacao(numeros, x):\n",
    "    soma = 0\n",
    "    for i in range(len(numeros)):\n",
    "        soma += 1/(numeros[i] + x)\n",
    "        print(soma)\n",
    "    return soma\n",
    "\n",
    "resultado_amortizado = somatorio_com_fator_amortizacao(numeros, x)\n",
    "\n",
    "def media_harmonica_amortizada(numeros, resultado_amortizado):\n",
    "    media_amortizada = (len(numeros)/resultado_amortizado) - x\n",
    "    return media_amortizada"
   ]
  },
  {
   "cell_type": "code",
   "execution_count": 20,
   "id": "1d151994",
   "metadata": {},
   "outputs": [
    {
     "data": {
      "text/plain": [
       "6.694161645543321"
      ]
     },
     "execution_count": 20,
     "metadata": {},
     "output_type": "execute_result"
    }
   ],
   "source": [
    "media_harmonica_amortizada(numeros, resultado_amortizado)"
   ]
  }
 ],
 "metadata": {
  "kernelspec": {
   "display_name": "Python 3",
   "language": "python",
   "name": "python3"
  },
  "language_info": {
   "codemirror_mode": {
    "name": "ipython",
    "version": 3
   },
   "file_extension": ".py",
   "mimetype": "text/x-python",
   "name": "python",
   "nbconvert_exporter": "python",
   "pygments_lexer": "ipython3",
   "version": "3.8.8"
  }
 },
 "nbformat": 4,
 "nbformat_minor": 5
}
